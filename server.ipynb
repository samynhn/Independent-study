{
 "cells": [
  {
   "cell_type": "code",
   "execution_count": 1,
   "metadata": {},
   "outputs": [
    {
     "name": "stdout",
     "output_type": "stream",
     "text": [
      "[STARTING] server is starting...\n",
      "[LISTENING] Server is listening on 192.168.189.1\n",
      "[NEW CONNECTION] ('192.168.189.1', 4260) connected.\n",
      "[ACTIVE CONNECTIONS] 6\n"
     ]
    },
    {
     "name": "stderr",
     "output_type": "stream",
     "text": [
      "Exception in thread Thread-6:\n",
      "Traceback (most recent call last):\n",
      "  File \"C:\\Users\\User\\anaconda3\\envs\\pytorch\\lib\\threading.py\", line 926, in _bootstrap_inner\n",
      "    self.run()\n",
      "  File \"C:\\Users\\User\\anaconda3\\envs\\pytorch\\lib\\threading.py\", line 870, in run\n",
      "    self._target(*self._args, **self._kwargs)\n",
      "  File \"C:\\Users\\User\\AppData\\Local\\Temp/ipykernel_24704/2403353372.py\", line 45, in handle_client\n",
      "    pil_img = json2im(msg)\n",
      "  File \"C:\\Users\\User\\AppData\\Local\\Temp/ipykernel_24704/2403353372.py\", line 27, in json2im\n",
      "    load = json.loads(jstr)\n",
      "  File \"C:\\Users\\User\\anaconda3\\envs\\pytorch\\lib\\json\\__init__.py\", line 348, in loads\n",
      "    return _default_decoder.decode(s)\n",
      "  File \"C:\\Users\\User\\anaconda3\\envs\\pytorch\\lib\\json\\decoder.py\", line 337, in decode\n",
      "    obj, end = self.raw_decode(s, idx=_w(s, 0).end())\n",
      "  File \"C:\\Users\\User\\anaconda3\\envs\\pytorch\\lib\\json\\decoder.py\", line 353, in raw_decode\n",
      "    obj, end = self.scan_once(s, idx)\n",
      "json.decoder.JSONDecodeError: Unterminated string starting at: line 1 column 11 (char 10)\n",
      "\n"
     ]
    }
   ],
   "source": [
    "import socket \n",
    "import threading\n",
    "import pickle\n",
    "import json\n",
    "import base64\n",
    "import cv2\n",
    "import numpy as np\n",
    "\n",
    "HEADER = 64\n",
    "PORT = 5050\n",
    "SERVER = socket.gethostbyname(socket.gethostname())\n",
    "ADDR = (SERVER, PORT)\n",
    "FORMAT = 'utf-8'\n",
    "DISCONNECT_MESSAGE = \"!DISCONNECT\"\n",
    "\n",
    "server = socket.socket(socket.AF_INET, socket.SOCK_STREAM)\n",
    "server.bind(ADDR)\n",
    "\n",
    "def im2json(im):\n",
    "    imdata = pickle.dumps(im)\n",
    "    print(type(imdata))\n",
    "    print(len(imdata))\n",
    "    jstr = json.dumps({\"image\": base64.b64encode(imdata).decode('utf-8')})\n",
    "    return jstr\n",
    "\n",
    "def json2im(jstr):\n",
    "    load = json.loads(jstr)\n",
    "    imdata = base64.b64decode(load['image'])\n",
    "    im = pickle.loads(imdata)\n",
    "    return im\n",
    "\n",
    "def handle_client(conn, addr):\n",
    "    print(f\"[NEW CONNECTION] {addr} connected.\")\n",
    "\n",
    "    connected = True\n",
    "    while connected:\n",
    "        msg_length = conn.recv(HEADER).decode(FORMAT) # first connection msg must be header\n",
    "        if msg_length: #avoid msg haven't been catched or no content in it\n",
    "            msg_length = int(msg_length)\n",
    "            msg = conn.recv(msg_length).decode(FORMAT)# after first msg is header, others msg are messager\n",
    "            if msg == DISCONNECT_MESSAGE: #close connection\n",
    "                connected = False\n",
    "            else:\n",
    "        \n",
    "                pil_img = json2im(msg)\n",
    "                # pil_img.show()\n",
    "                numpy_image=np.array(pil_img)\n",
    "                opencv_image=cv2.cvtColor(numpy_image, cv2.COLOR_RGB2BGR) \n",
    "                cv2.imshow(\"result\",opencv_image)\n",
    "            # print(f\"[{addr}] {msg}\")\n",
    "            conn.send(\"Msg received\".encode(FORMAT))\n",
    "\n",
    "    conn.close()\n",
    "        \n",
    "\n",
    "def start():\n",
    "    server.listen()\n",
    "    print(f\"[LISTENING] Server is listening on {SERVER}\")\n",
    "    while True: # infinite loop\n",
    "        conn, addr = server.accept()\n",
    "        thread = threading.Thread(target=handle_client, args=(conn, addr))\n",
    "        thread.start()\n",
    "        print(f\"[ACTIVE CONNECTIONS] {threading.activeCount() - 1}\")\n",
    "\n",
    "\n",
    "print(\"[STARTING] server is starting...\")\n",
    "start()"
   ]
  }
 ],
 "metadata": {
  "interpreter": {
   "hash": "10385ddd246f550e7067f180f4f232d5cedb2ee0eaba8b0c683ba3b06d151ca8"
  },
  "kernelspec": {
   "display_name": "Python 3.7.11 64-bit ('pytorch': conda)",
   "language": "python",
   "name": "python3"
  },
  "language_info": {
   "codemirror_mode": {
    "name": "ipython",
    "version": 3
   },
   "file_extension": ".py",
   "mimetype": "text/x-python",
   "name": "python",
   "nbconvert_exporter": "python",
   "pygments_lexer": "ipython3",
   "version": "3.7.11"
  },
  "orig_nbformat": 4
 },
 "nbformat": 4,
 "nbformat_minor": 2
}
